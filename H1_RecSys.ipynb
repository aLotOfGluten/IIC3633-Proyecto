{
  "nbformat": 4,
  "nbformat_minor": 0,
  "metadata": {
    "colab": {
      "provenance": []
    },
    "kernelspec": {
      "name": "python3",
      "display_name": "Python 3"
    },
    "language_info": {
      "name": "python"
    }
  },
  "cells": [
    {
      "cell_type": "code",
      "source": [
        "import pandas as pd\n",
        "import numpy as np\n",
        "from scipy.sparse import csr_matrix\n",
        "from sklearn.metrics.pairwise import cosine_similarity\n",
        "import random\n",
        "from collections import Counter\n",
        "from sklearn.metrics import precision_score\n",
        "from sklearn.feature_extraction.text import TfidfVectorizer\n",
        "import matplotlib.pyplot as plt\n",
        "import seaborn as sns"
      ],
      "metadata": {
        "id": "tDD-jmO1n3mf"
      },
      "execution_count": 1,
      "outputs": []
    },
    {
      "cell_type": "code",
      "source": [
        "!wget https://raw.githubusercontent.com/aLotOfGluten/IIC3633-Proyecto/refs/heads/main/data_processing/processed_h1/train_interactions_idx.csv\n",
        "!wget https://raw.githubusercontent.com/aLotOfGluten/IIC3633-Proyecto/refs/heads/main/data_processing/processed_h1/test_interactions_idx.csv\n",
        "!wget https://raw.githubusercontent.com/aLotOfGluten/IIC3633-Proyecto/refs/heads/main/data_processing/processed_h1/user_map.csv\n",
        "!wget https://raw.githubusercontent.com/aLotOfGluten/IIC3633-Proyecto/refs/heads/main/data_processing/processed_h1/item_map.csv\n",
        "!wget https://raw.githubusercontent.com/aLotOfGluten/IIC3633-Proyecto/refs/heads/main/data_processing/processed_h1/item_labels.csv\n",
        "!wget https://raw.githubusercontent.com/aLotOfGluten/IIC3633-Proyecto/refs/heads/main/data_processing/processed_h1/item_text_clean.csv"
      ],
      "metadata": {
        "colab": {
          "base_uri": "https://localhost:8080/"
        },
        "id": "4xOemi56tZI_",
        "outputId": "cc95b5ba-7d7c-4802-8f62-b276d057f2b0"
      },
      "execution_count": 2,
      "outputs": [
        {
          "output_type": "stream",
          "name": "stdout",
          "text": [
            "--2025-10-03 19:57:39--  https://raw.githubusercontent.com/aLotOfGluten/IIC3633-Proyecto/refs/heads/main/data_processing/processed_h1/train_interactions_idx.csv\n",
            "Resolving raw.githubusercontent.com (raw.githubusercontent.com)... 185.199.109.133, 185.199.108.133, 185.199.111.133, ...\n",
            "Connecting to raw.githubusercontent.com (raw.githubusercontent.com)|185.199.109.133|:443... connected.\n",
            "HTTP request sent, awaiting response... 200 OK\n",
            "Length: 680217 (664K) [text/plain]\n",
            "Saving to: ‘train_interactions_idx.csv.7’\n",
            "\n",
            "\r          train_int   0%[                    ]       0  --.-KB/s               \rtrain_interactions_ 100%[===================>] 664.27K  --.-KB/s    in 0.04s   \n",
            "\n",
            "2025-10-03 19:57:40 (14.4 MB/s) - ‘train_interactions_idx.csv.7’ saved [680217/680217]\n",
            "\n",
            "--2025-10-03 19:57:40--  https://raw.githubusercontent.com/aLotOfGluten/IIC3633-Proyecto/refs/heads/main/data_processing/processed_h1/test_interactions_idx.csv\n",
            "Resolving raw.githubusercontent.com (raw.githubusercontent.com)... 185.199.108.133, 185.199.109.133, 185.199.110.133, ...\n",
            "Connecting to raw.githubusercontent.com (raw.githubusercontent.com)|185.199.108.133|:443... connected.\n",
            "HTTP request sent, awaiting response... 200 OK\n",
            "Length: 55773 (54K) [text/plain]\n",
            "Saving to: ‘test_interactions_idx.csv.7’\n",
            "\n",
            "test_interactions_i 100%[===================>]  54.47K  --.-KB/s    in 0.009s  \n",
            "\n",
            "2025-10-03 19:57:40 (5.62 MB/s) - ‘test_interactions_idx.csv.7’ saved [55773/55773]\n",
            "\n",
            "--2025-10-03 19:57:40--  https://raw.githubusercontent.com/aLotOfGluten/IIC3633-Proyecto/refs/heads/main/data_processing/processed_h1/user_map.csv\n",
            "Resolving raw.githubusercontent.com (raw.githubusercontent.com)... 185.199.110.133, 185.199.109.133, 185.199.111.133, ...\n",
            "Connecting to raw.githubusercontent.com (raw.githubusercontent.com)|185.199.110.133|:443... connected.\n",
            "HTTP request sent, awaiting response... 200 OK\n",
            "Length: 72506 (71K) [text/plain]\n",
            "Saving to: ‘user_map.csv.7’\n",
            "\n",
            "user_map.csv.7      100%[===================>]  70.81K  --.-KB/s    in 0.01s   \n",
            "\n",
            "2025-10-03 19:57:40 (5.28 MB/s) - ‘user_map.csv.7’ saved [72506/72506]\n",
            "\n",
            "--2025-10-03 19:57:40--  https://raw.githubusercontent.com/aLotOfGluten/IIC3633-Proyecto/refs/heads/main/data_processing/processed_h1/item_map.csv\n",
            "Resolving raw.githubusercontent.com (raw.githubusercontent.com)... 185.199.108.133, 185.199.109.133, 185.199.110.133, ...\n",
            "Connecting to raw.githubusercontent.com (raw.githubusercontent.com)|185.199.108.133|:443... connected.\n",
            "HTTP request sent, awaiting response... 200 OK\n",
            "Length: 77376 (76K) [text/plain]\n",
            "Saving to: ‘item_map.csv.7’\n",
            "\n",
            "item_map.csv.7      100%[===================>]  75.56K  --.-KB/s    in 0.01s   \n",
            "\n",
            "2025-10-03 19:57:40 (5.57 MB/s) - ‘item_map.csv.7’ saved [77376/77376]\n",
            "\n",
            "--2025-10-03 19:57:40--  https://raw.githubusercontent.com/aLotOfGluten/IIC3633-Proyecto/refs/heads/main/data_processing/processed_h1/item_labels.csv\n",
            "Resolving raw.githubusercontent.com (raw.githubusercontent.com)... 185.199.108.133, 185.199.109.133, 185.199.110.133, ...\n",
            "Connecting to raw.githubusercontent.com (raw.githubusercontent.com)|185.199.108.133|:443... connected.\n",
            "HTTP request sent, awaiting response... 200 OK\n",
            "Length: 121222 (118K) [text/plain]\n",
            "Saving to: ‘item_labels.csv.7’\n",
            "\n",
            "item_labels.csv.7   100%[===================>] 118.38K  --.-KB/s    in 0.02s   \n",
            "\n",
            "2025-10-03 19:57:40 (7.00 MB/s) - ‘item_labels.csv.7’ saved [121222/121222]\n",
            "\n",
            "--2025-10-03 19:57:41--  https://raw.githubusercontent.com/aLotOfGluten/IIC3633-Proyecto/refs/heads/main/data_processing/processed_h1/item_text_clean.csv\n",
            "Resolving raw.githubusercontent.com (raw.githubusercontent.com)... 185.199.111.133, 185.199.108.133, 185.199.110.133, ...\n",
            "Connecting to raw.githubusercontent.com (raw.githubusercontent.com)|185.199.111.133|:443... connected.\n",
            "HTTP request sent, awaiting response... 200 OK\n",
            "Length: 268345 (262K) [text/plain]\n",
            "Saving to: ‘item_text_clean.csv.7’\n",
            "\n",
            "item_text_clean.csv 100%[===================>] 262.06K  --.-KB/s    in 0.03s   \n",
            "\n",
            "2025-10-03 19:57:41 (9.83 MB/s) - ‘item_text_clean.csv.7’ saved [268345/268345]\n",
            "\n"
          ]
        }
      ]
    },
    {
      "cell_type": "markdown",
      "source": [
        "# Implementación Sistemas de Recomendación\n"
      ],
      "metadata": {
        "id": "qkEI13Lrywx5"
      }
    },
    {
      "cell_type": "code",
      "source": [
        "train_interactions = pd.read_csv(\"train_interactions_idx.csv\")\n",
        "test_interactions = pd.read_csv(\"test_interactions_idx.csv\")\n",
        "\n",
        "user_map = pd.read_csv(\"user_map.csv\")\n",
        "item_map = pd.read_csv(\"item_map.csv\")\n",
        "item_labels = pd.read_csv(\"item_labels.csv\")\n",
        "\n",
        "print(train_interactions.head())\n",
        "print(test_interactions.head())"
      ],
      "metadata": {
        "colab": {
          "base_uri": "https://localhost:8080/"
        },
        "id": "OYeAaI9voGqX",
        "outputId": "2309c1d7-9b54-490d-e9b7-f8d2e108a28c"
      },
      "execution_count": 3,
      "outputs": [
        {
          "output_type": "stream",
          "name": "stdout",
          "text": [
            "   user_idx  item_idx  interaction\n",
            "0         0      1025            1\n",
            "1         0       279            1\n",
            "2         0       215            1\n",
            "3         0      2021            1\n",
            "4         0      2001            1\n",
            "   user_idx  item_idx  interaction\n",
            "0         0       974            1\n",
            "1         1      2206            1\n",
            "2         2       397            1\n",
            "3         3      1073            1\n",
            "4         4      1639            1\n"
          ]
        }
      ]
    },
    {
      "cell_type": "markdown",
      "source": [
        "KNN User-User"
      ],
      "metadata": {
        "id": "hUga_VFP4XVa"
      }
    },
    {
      "cell_type": "code",
      "source": [
        "n_users = user_map.shape[0]\n",
        "n_items = item_map.shape[0]\n",
        "\n",
        "train_matrix = csr_matrix(\n",
        "    (np.ones(len(train_interactions)),\n",
        "     (train_interactions[\"user_idx\"], train_interactions[\"item_idx\"])),\n",
        "    shape=(n_users, n_items)\n",
        ")\n",
        "\n",
        "train_matrix.shape"
      ],
      "metadata": {
        "id": "eu6i0ztB4PlQ",
        "colab": {
          "base_uri": "https://localhost:8080/"
        },
        "outputId": "1dce57f0-6b32-433a-a319-a94e4073841d"
      },
      "execution_count": 4,
      "outputs": [
        {
          "output_type": "execute_result",
          "data": {
            "text/plain": [
              "(4856, 2308)"
            ]
          },
          "metadata": {},
          "execution_count": 4
        }
      ]
    },
    {
      "cell_type": "code",
      "source": [
        "user_similarity = cosine_similarity(train_matrix)\n",
        "\n",
        "def recommend_uknn(user_id, k_neighbors=20, top_k=10):\n",
        "    sims = user_similarity[user_id]\n",
        "    neighbors = np.argsort(sims)[::-1][1:k_neighbors+1]\n",
        "    neighbor_items = train_matrix[neighbors].sum(axis=0).A1\n",
        "    user_items = train_matrix[user_id].toarray().flatten()\n",
        "    neighbor_items[user_items > 0] = -1\n",
        "    recs = np.argsort(neighbor_items)[::-1][:top_k]\n",
        "    return recs"
      ],
      "metadata": {
        "id": "rNlfMfrMoTZR"
      },
      "execution_count": 5,
      "outputs": []
    },
    {
      "cell_type": "code",
      "source": [
        "test_user = 0\n",
        "print(\"UKNN:\", recommend_uknn(test_user, top_k=10))"
      ],
      "metadata": {
        "colab": {
          "base_uri": "https://localhost:8080/"
        },
        "id": "zGxtxCQetDpT",
        "outputId": "100e6e8f-114f-4060-cc9c-b45cbcafcdef"
      },
      "execution_count": 6,
      "outputs": [
        {
          "output_type": "stream",
          "name": "stdout",
          "text": [
            "UKNN: [ 974 1971 1836 1036  219  255  921 2151 1184 1024]\n"
          ]
        }
      ]
    },
    {
      "cell_type": "markdown",
      "source": [
        "Most Popular"
      ],
      "metadata": {
        "id": "EUih9YeB4QW_"
      }
    },
    {
      "cell_type": "code",
      "execution_count": 7,
      "metadata": {
        "id": "VCXxLA512J-T"
      },
      "outputs": [],
      "source": [
        "valid_items = set(item_labels[\"item_idx\"])\n",
        "item_popularity = np.array(train_matrix.sum(axis=0)).flatten()\n",
        "most_popular_ranking = [i for i in np.argsort(item_popularity)[::-1] if i in valid_items]\n",
        "\n",
        "def recommend_most_popular(user_id, top_k=10):\n",
        "    user_items = train_matrix[user_id].toarray().flatten()\n",
        "    recs = [i for i in most_popular_ranking if user_items[i] == 0][:top_k]\n",
        "    return recs"
      ]
    },
    {
      "cell_type": "code",
      "source": [
        "print(\"Most Popular:\", recommend_most_popular(test_user, top_k=10))"
      ],
      "metadata": {
        "colab": {
          "base_uri": "https://localhost:8080/"
        },
        "id": "8Fx4ebWfxJwg",
        "outputId": "e4d252c3-d1b7-4575-ca32-03333e6a83e4"
      },
      "execution_count": 8,
      "outputs": [
        {
          "output_type": "stream",
          "name": "stdout",
          "text": [
            "Most Popular: [np.int64(2137), np.int64(2151), np.int64(1956), np.int64(1329), np.int64(2187), np.int64(1142), np.int64(2261), np.int64(1317), np.int64(1044), np.int64(1056)]\n"
          ]
        }
      ]
    },
    {
      "cell_type": "markdown",
      "source": [
        "Random"
      ],
      "metadata": {
        "id": "B_0JOJIb4Vb6"
      }
    },
    {
      "cell_type": "code",
      "source": [
        "all_items = item_labels[\"item_idx\"].tolist()\n",
        "\n",
        "def recommend_random(user_id, top_k=10):\n",
        "    user_items = train_matrix[user_id].toarray().flatten()\n",
        "    available_items = [i for i in all_items if user_items[i] == 0]\n",
        "    return random.sample(available_items, min(top_k, len(available_items)))"
      ],
      "metadata": {
        "id": "XhXBr6PL4e17"
      },
      "execution_count": 9,
      "outputs": []
    },
    {
      "cell_type": "code",
      "source": [
        "print(\"Random:\", recommend_random(test_user, top_k=10))"
      ],
      "metadata": {
        "colab": {
          "base_uri": "https://localhost:8080/"
        },
        "id": "TZgo9lFmxc8Z",
        "outputId": "f98ce992-21ce-4acf-8c0a-a758919cd184"
      },
      "execution_count": 10,
      "outputs": [
        {
          "output_type": "stream",
          "name": "stdout",
          "text": [
            "Random: [2191, 1524, 1164, 1150, 570, 242, 1603, 257, 1911, 42]\n"
          ]
        }
      ]
    },
    {
      "cell_type": "markdown",
      "source": [
        "Item KNN"
      ],
      "metadata": {
        "id": "pTpeedwoY5tA"
      }
    },
    {
      "cell_type": "code",
      "source": [
        "item_similarity = cosine_similarity(train_matrix.T)\n",
        "\n",
        "def recommend_iknn(user_id, k_neighbors=20, top_k=10):\n",
        "    user_items = train_matrix[user_id].toarray().flatten()\n",
        "    consumed_items = np.where(user_items > 0)[0]\n",
        "    scores = np.zeros(train_matrix.shape[1])\n",
        "    for item in consumed_items:\n",
        "        sims = item_similarity[item]\n",
        "        neighbors = np.argsort(sims)[::-1][1:k_neighbors+1]\n",
        "        scores[neighbors] += sims[neighbors]\n",
        "    scores[consumed_items] = -1\n",
        "    recs = np.argsort(scores)[::-1][:top_k]\n",
        "    return recs"
      ],
      "metadata": {
        "id": "_ivuawjiY5Wh"
      },
      "execution_count": 11,
      "outputs": []
    },
    {
      "cell_type": "markdown",
      "source": [
        "TF-IDF + Similaridad de Contenido"
      ],
      "metadata": {
        "id": "WYpxXRD8aXxP"
      }
    },
    {
      "cell_type": "code",
      "source": [
        "item_text = pd.read_csv(\"item_text_clean.csv\")\n",
        "\n",
        "idx_to_tfidf_pos = {row[\"item_idx\"]: i for i, row in item_text.iterrows()}\n",
        "tfidf_pos_to_idx = {i: row[\"item_idx\"] for i, row in item_text.iterrows()}\n",
        "\n",
        "vectorizer = TfidfVectorizer(\n",
        "    max_features=5000,\n",
        "    ngram_range=(1, 2),\n",
        "    min_df=2,\n",
        "    stop_words='english'\n",
        ")\n",
        "\n",
        "tfidf_matrix = vectorizer.fit_transform(item_text[\"text_clean\"].fillna(\"\"))\n",
        "content_similarity = cosine_similarity(tfidf_matrix)\n",
        "\n",
        "def recommend_tfidf(user_id, k_neighbors=20, top_k=10):\n",
        "    user_items = train_matrix[user_id].toarray().flatten()\n",
        "    consumed_items = np.where(user_items > 0)[0]\n",
        "\n",
        "    consumed_items_with_text = [item for item in consumed_items if item in idx_to_tfidf_pos]\n",
        "\n",
        "    if len(consumed_items_with_text) == 0:\n",
        "        return recommend_random(user_id, top_k)\n",
        "\n",
        "    scores = np.zeros(train_matrix.shape[1])\n",
        "\n",
        "    for item_idx in consumed_items_with_text:\n",
        "        tfidf_pos = idx_to_tfidf_pos[item_idx]\n",
        "        sims = content_similarity[tfidf_pos]\n",
        "\n",
        "        neighbor_positions = np.argsort(sims)[::-1][1:k_neighbors+1]\n",
        "\n",
        "        for neighbor_pos in neighbor_positions:\n",
        "            neighbor_idx = tfidf_pos_to_idx[neighbor_pos]\n",
        "            scores[neighbor_idx] += sims[neighbor_pos]\n",
        "\n",
        "    scores[consumed_items] = -1\n",
        "\n",
        "    recs = np.argsort(scores)[::-1][:top_k]\n",
        "    return recs"
      ],
      "metadata": {
        "id": "yfJ9B2hPbEVe"
      },
      "execution_count": 12,
      "outputs": []
    },
    {
      "cell_type": "markdown",
      "source": [
        " # Análisis de Recomendaciones"
      ],
      "metadata": {
        "id": "k9KMN-IPyoXR"
      }
    },
    {
      "cell_type": "code",
      "source": [
        "labels_map = dict(zip(item_labels[\"item_idx\"], item_labels[\"label\"]))\n",
        "label_classes = sorted(item_labels[\"label\"].unique())"
      ],
      "metadata": {
        "id": "qGNF6BnRyn3d"
      },
      "execution_count": 13,
      "outputs": []
    },
    {
      "cell_type": "code",
      "source": [
        "def bias_distribution(recs, base_dist):\n",
        "    labels = [labels_map[i] for i in recs]\n",
        "    rec_dist = Counter(labels)\n",
        "    total = sum(rec_dist.values())\n",
        "    return {l: rec_dist.get(l,0)/total - base_dist[l] for l in base_dist}"
      ],
      "metadata": {
        "id": "c8yLPjfe9Jtn"
      },
      "execution_count": 14,
      "outputs": []
    },
    {
      "cell_type": "code",
      "source": [
        "def precision_at_k_by_class(model_func, test_users, K=10):\n",
        "    prec = {l: [] for l in label_classes}\n",
        "    for u in test_users:\n",
        "        recs = model_func(u, top_k=K)\n",
        "        true_items = test_interactions[test_interactions[\"user_idx\"]==u][\"item_idx\"].tolist()\n",
        "        for l in label_classes:\n",
        "            true_l = [i for i in true_items if labels_map.get(i)==l]\n",
        "            if len(true_l)>0:\n",
        "                hit = len(set(recs) & set(true_l)) / K\n",
        "                prec[l].append(hit)\n",
        "    return {l: np.mean(prec[l]) if len(prec[l])>0 else 0.0 for l in label_classes}"
      ],
      "metadata": {
        "id": "kqywMK1M9WuW"
      },
      "execution_count": 15,
      "outputs": []
    },
    {
      "cell_type": "code",
      "source": [
        "def exposure(recs_all):\n",
        "    all_labels = [labels_map[i] for recs in recs_all for i in recs if i in labels_map]\n",
        "    total = len(all_labels)\n",
        "    return {l: all_labels.count(l)/total for l in label_classes}"
      ],
      "metadata": {
        "id": "0Ix564Sx9OJn"
      },
      "execution_count": 16,
      "outputs": []
    },
    {
      "cell_type": "code",
      "source": [
        "def coverage(recs_all):\n",
        "    rec_items = set([i for recs in recs_all for i in recs])\n",
        "    cov = {}\n",
        "    for l in label_classes:\n",
        "        items_l = set(item_labels[item_labels[\"label\"]==l][\"item_idx\"])\n",
        "        cov[l] = len(rec_items & items_l) / len(items_l)\n",
        "    return cov"
      ],
      "metadata": {
        "id": "AWYfqkZj9Tt_"
      },
      "execution_count": 17,
      "outputs": []
    },
    {
      "cell_type": "code",
      "source": [
        "def mrr_at_k(model_func, test_users, K=10):\n",
        "    mrr_scores = []\n",
        "    for u in test_users:\n",
        "        recs = model_func(u, top_k=K)\n",
        "        true_items = set(test_interactions[test_interactions[\"user_idx\"]==u][\"item_idx\"])\n",
        "\n",
        "        for rank, item in enumerate(recs, 1):\n",
        "            if item in true_items:\n",
        "                mrr_scores.append(1.0 / rank)\n",
        "                break\n",
        "        else:\n",
        "            mrr_scores.append(0.0)\n",
        "\n",
        "    return np.mean(mrr_scores)"
      ],
      "metadata": {
        "id": "O875tOmoj_TB"
      },
      "execution_count": 18,
      "outputs": []
    },
    {
      "cell_type": "code",
      "source": [
        "def inter_list_diversity(recs_all):\n",
        "    from itertools import combinations\n",
        "\n",
        "    diversities = []\n",
        "    for recs1, recs2 in combinations(recs_all, 2):\n",
        "        set1, set2 = set(recs1), set(recs2)\n",
        "        diversity = 1 - (len(set1 & set2) / len(set1 | set2))\n",
        "        diversities.append(diversity)\n",
        "\n",
        "    return np.mean(diversities)"
      ],
      "metadata": {
        "id": "g7mdi2k9kEk3"
      },
      "execution_count": 19,
      "outputs": []
    },
    {
      "cell_type": "code",
      "source": [
        "test_users = test_interactions[\"user_idx\"].unique()\n",
        "base_distance = item_labels[\"label\"].value_counts(normalize=True).to_dict()"
      ],
      "metadata": {
        "id": "jfxQXzFp9f6u"
      },
      "execution_count": 20,
      "outputs": []
    },
    {
      "cell_type": "markdown",
      "source": [
        "UKNN"
      ],
      "metadata": {
        "id": "2DrogdbH9vYF"
      }
    },
    {
      "cell_type": "code",
      "source": [
        "recs_all = [recommend_uknn(user, top_k=10) for user in test_users]\n",
        "\n",
        "print(\"=\" * 60)\n",
        "print(\"UKNN - User-based KNN\")\n",
        "print(\"=\" * 60)\n",
        "print(\"MRR@10:\", f\"{mrr_at_k(recommend_uknn, test_users):.4f}\")\n",
        "print(\"ILD:\", f\"{inter_list_diversity(recs_all):.4f}\")\n",
        "print(\"\\nBias de labels:\", bias_distribution(recs_all[0], base_distance))\n",
        "print(\"Precision@10:\", precision_at_k_by_class(recommend_uknn, test_users))\n",
        "print(\"Exposure por label:\", exposure(recs_all))\n",
        "print(\"Coverage por label:\", coverage(recs_all))"
      ],
      "metadata": {
        "colab": {
          "base_uri": "https://localhost:8080/"
        },
        "id": "ww6Z30v49uk9",
        "outputId": "28e9a347-a7e7-47ab-e1f1-6ff0228b4a25"
      },
      "execution_count": 21,
      "outputs": [
        {
          "output_type": "stream",
          "name": "stdout",
          "text": [
            "============================================================\n",
            "UKNN - User-based KNN\n",
            "============================================================\n",
            "MRR@10: 0.1246\n",
            "ILD: 0.9870\n",
            "\n",
            "Bias de labels: {'non-rumor': 0.13553719008264464, 'unverified': 0.04517906336088151, 'true': -0.0460973370064279, 'false': -0.13461891643709825}\n",
            "Precision@10: {'false': np.float64(0.007861635220125786), 'non-rumor': np.float64(0.025658876181004476), 'true': np.float64(0.011746987951807229), 'unverified': np.float64(0.040831295843520785)}\n",
            "Exposure por label: {'false': 0.0948556365583426, 'non-rumor': 0.5093702376539396, 'true': 0.10659417603690433, 'unverified': 0.28917994975081346}\n",
            "Coverage por label: {'false': 0.5538160469667319, 'non-rumor': 0.8767361111111112, 'true': 0.6697761194029851, 'unverified': 0.7315315315315315}\n"
          ]
        }
      ]
    },
    {
      "cell_type": "markdown",
      "source": [
        "Most Popular"
      ],
      "metadata": {
        "id": "L0Z-lwZ2AlsY"
      }
    },
    {
      "cell_type": "code",
      "source": [
        "recs_all = [recommend_most_popular(user, top_k=10) for user in test_users]\n",
        "\n",
        "print(\"=\" * 60)\n",
        "print(\"Most Popular\")\n",
        "print(\"=\" * 60)\n",
        "print(\"MRR@10:\", f\"{mrr_at_k(recommend_most_popular, test_users):.4f}\")\n",
        "print(\"ILD:\", f\"{inter_list_diversity(recs_all):.4f}\")\n",
        "print(\"\\nBias de labels:\", bias_distribution(recs_all[0], base_distance))\n",
        "print(\"Precision@10:\", precision_at_k_by_class(recommend_most_popular, test_users))\n",
        "print(\"Exposure por label:\", exposure(recs_all))\n",
        "print(\"Coverage por label:\", coverage(recs_all))"
      ],
      "metadata": {
        "colab": {
          "base_uri": "https://localhost:8080/"
        },
        "id": "NlWsxdC9AoQI",
        "outputId": "c019b057-fec1-4cf3-d1ec-3be202f6ec45"
      },
      "execution_count": 22,
      "outputs": [
        {
          "output_type": "stream",
          "name": "stdout",
          "text": [
            "============================================================\n",
            "Most Popular\n",
            "============================================================\n",
            "MRR@10: 0.0070\n",
            "ILD: 0.1172\n",
            "\n",
            "Bias de labels: {'non-rumor': 0.23553719008264462, 'unverified': 0.24517906336088152, 'true': -0.2460973370064279, 'false': -0.23461891643709826}\n",
            "Precision@10: {'false': np.float64(0.0), 'non-rumor': np.float64(0.004027846842366982), 'true': np.float64(0.0), 'unverified': np.float64(0.0074164629176854124)}\n",
            "Exposure por label: {'false': 0.0, 'non-rumor': 0.5170510708401977, 'true': 0.0, 'unverified': 0.4829489291598023}\n",
            "Coverage por label: {'false': 0.0, 'non-rumor': 0.017361111111111112, 'true': 0.0, 'unverified': 0.012612612612612612}\n"
          ]
        }
      ]
    },
    {
      "cell_type": "markdown",
      "source": [
        "Random"
      ],
      "metadata": {
        "id": "sWvB-6loA-Nm"
      }
    },
    {
      "cell_type": "code",
      "source": [
        "recs_all = [recommend_random(user, top_k=10) for user in test_users]\n",
        "\n",
        "print(\"=\" * 60)\n",
        "print(\"Random\")\n",
        "print(\"=\" * 60)\n",
        "print(\"MRR@10:\", f\"{mrr_at_k(recommend_random, test_users):.4f}\")\n",
        "print(\"ILD:\", f\"{inter_list_diversity(recs_all):.4f}\")\n",
        "print(\"\\nBias de labels:\", bias_distribution(recs_all[0], base_distance))\n",
        "print(\"Precision@10:\", precision_at_k_by_class(recommend_random, test_users))\n",
        "print(\"Exposure por label:\", exposure(recs_all))\n",
        "print(\"Coverage por label:\", coverage(recs_all))"
      ],
      "metadata": {
        "colab": {
          "base_uri": "https://localhost:8080/"
        },
        "id": "QijPdt9LA9WX",
        "outputId": "48f3c909-10b4-48f2-a2a5-bf2873f716a8"
      },
      "execution_count": 23,
      "outputs": [
        {
          "output_type": "stream",
          "name": "stdout",
          "text": [
            "============================================================\n",
            "Random\n",
            "============================================================\n",
            "MRR@10: 0.0012\n",
            "ILD: 0.9976\n",
            "\n",
            "Bias de labels: {'non-rumor': -0.06446280991735537, 'unverified': 0.04517906336088151, 'true': 0.053902662993572076, 'false': -0.034618916437098246}\n",
            "Precision@10: {'false': np.float64(0.0006289308176100629), 'non-rumor': np.float64(0.00034808552958727007), 'true': np.float64(0.00030120481927710846), 'unverified': np.float64(0.00032599837000814997)}\n",
            "Exposure por label: {'false': 0.2360996705107084, 'non-rumor': 0.26418863261943987, 'true': 0.24779654036243823, 'unverified': 0.25191515650741353}\n",
            "Coverage por label: {'false': 1.0, 'non-rumor': 1.0, 'true': 1.0, 'unverified': 1.0}\n"
          ]
        }
      ]
    },
    {
      "cell_type": "markdown",
      "source": [
        "IKNN"
      ],
      "metadata": {
        "id": "wfR-EF3SZy5n"
      }
    },
    {
      "cell_type": "code",
      "source": [
        "recs_all = [recommend_iknn(user, top_k=10) for user in test_users]\n",
        "\n",
        "print(\"=\" * 60)\n",
        "print(\"IKNN - Item-based KNN\")\n",
        "print(\"=\" * 60)\n",
        "print(\"MRR@10:\", f\"{mrr_at_k(recommend_iknn, test_users):.4f}\")\n",
        "print(\"ILD:\", f\"{inter_list_diversity(recs_all):.4f}\")\n",
        "print(\"\\nBias de labels:\", bias_distribution(recs_all[0], base_distance))\n",
        "print(\"Precision@10:\", precision_at_k_by_class(recommend_iknn, test_users))\n",
        "print(\"Exposure por label:\", exposure(recs_all))\n",
        "print(\"Coverage por label:\", coverage(recs_all))"
      ],
      "metadata": {
        "colab": {
          "base_uri": "https://localhost:8080/"
        },
        "id": "ebvilbPJZ2aH",
        "outputId": "5f11f2c8-ca95-42ce-8b6c-2a26de105e6c"
      },
      "execution_count": 24,
      "outputs": [
        {
          "output_type": "stream",
          "name": "stdout",
          "text": [
            "============================================================\n",
            "IKNN - Item-based KNN\n",
            "============================================================\n",
            "MRR@10: 0.1792\n",
            "ILD: 0.9833\n",
            "\n",
            "Bias de labels: {'non-rumor': 0.6355371900826446, 'unverified': -0.15482093663911847, 'true': -0.2460973370064279, 'false': -0.23461891643709826}\n",
            "Precision@10: {'false': np.float64(0.007861635220125788), 'non-rumor': np.float64(0.02381899552461462), 'true': np.float64(0.011295180722891566), 'unverified': np.float64(0.06397718011409943)}\n",
            "Exposure por label: {'false': 0.09838935574229692, 'non-rumor': 0.5357348821881693, 'true': 0.11538144669632559, 'unverified': 0.2504943153732081}\n",
            "Coverage por label: {'false': 0.8023483365949119, 'non-rumor': 0.8680555555555556, 'true': 0.7947761194029851, 'unverified': 0.836036036036036}\n"
          ]
        }
      ]
    },
    {
      "cell_type": "markdown",
      "source": [
        "TF-IDF"
      ],
      "metadata": {
        "id": "KYRTF_MaiTZ7"
      }
    },
    {
      "cell_type": "code",
      "source": [
        "recs_all = [recommend_tfidf(user, top_k=10) for user in test_users]\n",
        "\n",
        "print(\"=\" * 60)\n",
        "print(\"TF-IDF + Similaridad de Contenido\")\n",
        "print(\"=\" * 60)\n",
        "print(\"MRR@10:\", f\"{mrr_at_k(recommend_tfidf, test_users):.4f}\")\n",
        "print(\"ILD:\", f\"{inter_list_diversity(recs_all):.4f}\")\n",
        "print(\"\\nBias de labels:\", bias_distribution(recs_all[0], base_distance))\n",
        "print(\"Precision@10:\", precision_at_k_by_class(recommend_tfidf, test_users))\n",
        "print(\"Exposure por label:\", exposure(recs_all))\n",
        "print(\"Coverage por label:\", coverage(recs_all))"
      ],
      "metadata": {
        "colab": {
          "base_uri": "https://localhost:8080/"
        },
        "id": "yzjNt_XDiW2t",
        "outputId": "6e877308-a9cf-4beb-817b-3945c22f2a26"
      },
      "execution_count": 25,
      "outputs": [
        {
          "output_type": "stream",
          "name": "stdout",
          "text": [
            "============================================================\n",
            "TF-IDF + Similaridad de Contenido\n",
            "============================================================\n",
            "MRR@10: 0.0532\n",
            "ILD: 0.9756\n",
            "\n",
            "Bias de labels: {'non-rumor': 0.03553719008264461, 'unverified': -0.2548209366391185, 'true': 0.2539026629935721, 'false': -0.034618916437098246}\n",
            "Precision@10: {'false': np.float64(0.005870020964360586), 'non-rumor': np.float64(0.006166086524117356), 'true': np.float64(0.004216867469879518), 'unverified': np.float64(0.026405867970660146)}\n",
            "Exposure por label: {'false': 0.16663920922570016, 'non-rumor': 0.31777182866556836, 'true': 0.20364497528830314, 'unverified': 0.31194398682042834}\n",
            "Coverage por label: {'false': 0.8571428571428571, 'non-rumor': 0.8402777777777778, 'true': 0.9011194029850746, 'unverified': 0.8486486486486486}\n"
          ]
        }
      ]
    },
    {
      "cell_type": "markdown",
      "source": [
        "Comparación Final"
      ],
      "metadata": {
        "id": "OZdnS5ofibwk"
      }
    },
    {
      "cell_type": "code",
      "source": [
        "print(\"=\" * 80)\n",
        "print(\"RESUMEN COMPARATIVO DE MODELOS\")\n",
        "print(\"=\" * 80)\n",
        "\n",
        "models = {\n",
        "    \"UKNN\": recommend_uknn,\n",
        "    \"IKNN\": recommend_iknn,\n",
        "    \"Most Popular\": recommend_most_popular,\n",
        "    \"Random\": recommend_random,\n",
        "    \"TF-IDF\": recommend_tfidf\n",
        "}\n",
        "\n",
        "results = []\n",
        "\n",
        "for name, model_func in models.items():\n",
        "    recs_all = [model_func(user, top_k=10) for user in test_users]\n",
        "\n",
        "    mrr = mrr_at_k(model_func, test_users)\n",
        "    ild = inter_list_diversity(recs_all)\n",
        "    exp = exposure(recs_all)\n",
        "    cov = coverage(recs_all)\n",
        "\n",
        "    results.append({\n",
        "        \"Modelo\": name,\n",
        "        \"MRR@10\": mrr,\n",
        "        \"ILD\": ild,\n",
        "        \"Exp_False\": exp['false'],\n",
        "        \"Exp_True\": exp['true'],\n",
        "        \"Cov_False\": cov['false'],\n",
        "        \"Cov_True\": cov['true']\n",
        "    })\n",
        "\n",
        "df_results = pd.DataFrame(results)\n",
        "print(\"\\n\", df_results.to_string(index=False))\n",
        "\n",
        "print(\"\\n\" + \"=\" * 80)\n",
        "print(\"ANÁLISIS:\")\n",
        "print(\"- MRR@10: Mayor es mejor (calidad del ranking)\")\n",
        "print(\"- ILD: Mayor es mejor (diversidad entre usuarios)\")\n",
        "print(\"- Exposure: Distribución de visibilidad por clase\")\n",
        "print(\"- Coverage: Proporción del catálogo recomendado por clase\")\n",
        "print(\"=\" * 80)"
      ],
      "metadata": {
        "colab": {
          "base_uri": "https://localhost:8080/"
        },
        "id": "d7i5KbU2id01",
        "outputId": "3098a602-67ab-4a80-fe02-48a9f28a79ff"
      },
      "execution_count": 26,
      "outputs": [
        {
          "output_type": "stream",
          "name": "stdout",
          "text": [
            "================================================================================\n",
            "RESUMEN COMPARATIVO DE MODELOS\n",
            "================================================================================\n",
            "\n",
            "       Modelo   MRR@10      ILD  Exp_False  Exp_True  Cov_False  Cov_True\n",
            "        UKNN 0.124580 0.987049   0.094856  0.106594   0.553816  0.669776\n",
            "        IKNN 0.179174 0.983267   0.098389  0.115381   0.802348  0.794776\n",
            "Most Popular 0.007049 0.117156   0.000000  0.000000   0.000000  0.000000\n",
            "      Random 0.001164 0.997575   0.230560  0.247014   1.000000  1.000000\n",
            "      TF-IDF 0.053176 0.975608   0.166639  0.203645   0.857143  0.901119\n",
            "\n",
            "================================================================================\n",
            "ANÁLISIS:\n",
            "- MRR@10: Mayor es mejor (calidad del ranking)\n",
            "- ILD: Mayor es mejor (diversidad entre usuarios)\n",
            "- Exposure: Distribución de visibilidad por clase\n",
            "- Coverage: Proporción del catálogo recomendado por clase\n",
            "================================================================================\n"
          ]
        }
      ]
    },
    {
      "cell_type": "markdown",
      "source": [
        "Gráficos"
      ],
      "metadata": {
        "id": "fz9zLyejmAhf"
      }
    },
    {
      "cell_type": "code",
      "source": [
        "models_list = list(models.keys())\n",
        "mrr_values = [results[i][\"MRR@10\"] for i in range(len(results))]\n",
        "ild_values = [results[i][\"ILD\"] for i in range(len(results))]\n",
        "\n",
        "# gráfico 1 mrr e ild por modelo\n",
        "fig, (ax1, ax2) = plt.subplots(1, 2, figsize=(14, 5))\n",
        "\n",
        "ax1.bar(models_list, mrr_values, color='steelblue', alpha=0.8)\n",
        "ax1.set_ylabel('MRR@10', fontsize=12)\n",
        "ax1.set_title('Precisión por Modelo', fontsize=14, fontweight='bold')\n",
        "ax1.set_ylim(0, max(mrr_values) * 1.2)\n",
        "ax1.grid(axis='y', alpha=0.3)\n",
        "plt.setp(ax1.xaxis.get_majorticklabels(), rotation=45, ha='right')\n",
        "\n",
        "ax2.bar(models_list, ild_values, color='coral', alpha=0.8)\n",
        "ax2.set_ylabel('ILD', fontsize=12)\n",
        "ax2.set_title('Diversidad por Modelo', fontsize=14, fontweight='bold')\n",
        "ax2.set_ylim(0, 1)\n",
        "ax2.grid(axis='y', alpha=0.3)\n",
        "plt.setp(ax2.xaxis.get_majorticklabels(), rotation=45, ha='right')\n",
        "\n",
        "plt.tight_layout()\n",
        "plt.show()\n",
        "\n",
        "# gráfico 2 heatmap de exposure\n",
        "exposure_data = []\n",
        "for name, model_func in models.items():\n",
        "    recs_all = [model_func(user, top_k=10) for user in test_users]\n",
        "    exp = exposure(recs_all)\n",
        "    exposure_data.append([exp['false'], exp['true'], exp['unverified'], exp['non-rumor']])\n",
        "\n",
        "plt.figure(figsize=(10, 6))\n",
        "sns.heatmap(exposure_data,\n",
        "            annot=True,\n",
        "            fmt='.3f',\n",
        "            xticklabels=['False', 'True', 'Unverified', 'Non-rumor'],\n",
        "            yticklabels=models_list,\n",
        "            cmap='YlOrRd',\n",
        "            cbar_kws={'label': 'Proporción de Exposure'})\n",
        "plt.title('Exposure por Modelo y Tipo de Noticia', fontsize=14, fontweight='bold')\n",
        "plt.ylabel('Modelo')\n",
        "plt.xlabel('Tipo de Noticia')\n",
        "plt.tight_layout()\n",
        "plt.show()\n",
        "\n",
        "# gráfico 3 mrr vs ild\n",
        "plt.figure(figsize=(8, 6))\n",
        "plt.scatter(ild_values, mrr_values, s=200, alpha=0.7, c=range(len(models_list)), cmap='viridis')\n",
        "\n",
        "for i, model in enumerate(models_list):\n",
        "    plt.annotate(model, (ild_values[i], mrr_values[i]),\n",
        "                xytext=(5, 5), textcoords='offset points', fontsize=10)\n",
        "\n",
        "plt.xlabel('ILD (Diversidad)', fontsize=12)\n",
        "plt.ylabel('MRR@10 (Precisión)', fontsize=12)\n",
        "plt.title('Trade-off: Precisión vs Diversidad', fontsize=14, fontweight='bold')\n",
        "plt.grid(True, alpha=0.3)\n",
        "plt.tight_layout()\n",
        "plt.show()"
      ],
      "metadata": {
        "colab": {
          "base_uri": "https://localhost:8080/",
          "height": 1000
        },
        "id": "if8bCRWCmASo",
        "outputId": "1857573b-703b-44d2-df45-c6b4b90177f1"
      },
      "execution_count": 27,
      "outputs": [
        {
          "output_type": "display_data",
          "data": {
            "text/plain": [
              "<Figure size 1400x500 with 2 Axes>"
            ],
            "image/png": "[encoded data removed]"
          },
          "metadata": {}
        },
        {
          "output_type": "display_data",
          "data": {
            "text/plain": [
              "<Figure size 1000x600 with 2 Axes>"
            ],
            "image/png": "[encoded data removed]"
          },
          "metadata": {}
        },
        {
          "output_type": "display_data",
          "data": {
            "text/plain": [
              "<Figure size 800x600 with 1 Axes>"
            ],
            "image/png": "[encoded data removed]"
          },
          "metadata": {}
        }
      ]
    }
  ]
}